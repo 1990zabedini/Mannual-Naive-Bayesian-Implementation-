{
 "cells": [
  {
   "cell_type": "code",
   "execution_count": 1,
   "id": "436226d7",
   "metadata": {},
   "outputs": [],
   "source": [
    "import numpy as np \n",
    "import pandas as pd \n",
    "from sklearn.datasets import load_iris\n",
    "import math\n",
    "from functools import reduce\n",
    "from functools import partial\n",
    "from scipy.stats import norm"
   ]
  },
  {
   "cell_type": "code",
   "execution_count": null,
   "id": "6379d24a",
   "metadata": {},
   "outputs": [],
   "source": [
    "iris_datasets=load_iris()"
   ]
  },
  {
   "cell_type": "code",
   "execution_count": null,
   "id": "5a04b385",
   "metadata": {},
   "outputs": [],
   "source": [
    "X=iris_datasets.data"
   ]
  },
  {
   "cell_type": "code",
   "execution_count": null,
   "id": "b77e3ce0",
   "metadata": {},
   "outputs": [],
   "source": [
    "Y=iris_datasets.target"
   ]
  },
  {
   "cell_type": "code",
   "execution_count": null,
   "id": "dc030e64",
   "metadata": {},
   "outputs": [],
   "source": [
    "iris_datasets.feature_names"
   ]
  },
  {
   "cell_type": "code",
   "execution_count": null,
   "id": "fc2c7656",
   "metadata": {},
   "outputs": [],
   "source": [
    "iris_datasets.target_names"
   ]
  },
  {
   "cell_type": "code",
   "execution_count": null,
   "id": "8bad8afa",
   "metadata": {},
   "outputs": [],
   "source": [
    "train_index=index[30:]\n",
    "test_index=index[:30]"
   ]
  },
  {
   "cell_type": "code",
   "execution_count": null,
   "id": "16f4b7a5",
   "metadata": {},
   "outputs": [],
   "source": [
    "x_train=X[train_index]\n",
    "y_train=Y[train_index]\n",
    "x_test=X[test_index]\n",
    "y_test=Y[test_index]"
   ]
  },
  {
   "cell_type": "code",
   "execution_count": null,
   "id": "3a1bc468",
   "metadata": {},
   "outputs": [],
   "source": [
    "print(len(x_train))\n",
    "print(len(x_test))"
   ]
  },
  {
   "cell_type": "code",
   "execution_count": null,
   "id": "ef3f5132",
   "metadata": {},
   "outputs": [],
   "source": [
    "means={}\n",
    "variances={}\n",
    "classes=np.unique(y_train).tolist()\n",
    "for i in classes:\n",
    "    tmp=x_train[np.where(y_train==i)]\n",
    "    means[i]=np.mean(tmp,axis=0)\n",
    "    variances[i]=np.var(tmp,axis=0)"
   ]
  },
  {
   "cell_type": "code",
   "execution_count": null,
   "id": "03c9e7ac",
   "metadata": {},
   "outputs": [],
   "source": [
    "def normal_dist(x,mean,variance):\n",
    "    return norm.pdf(x,mean,variance)"
   ]
  },
  {
   "cell_type": "code",
   "execution_count": null,
   "id": "d71e47e5",
   "metadata": {},
   "outputs": [],
   "source": [
    "tmp_2=np.empty(shape=(x_test.shape[0],len(classes)))\n",
    "\n",
    "\n",
    "for i in classes:\n",
    "    score=np.apply_along_axis(normal_dist,arr=x_test,mean=means[i],variance=variances[i],axis=1)\n",
    "    tmp_2[:,i]=np.multiply.reduce(score,axis=1)\n",
    "    "
   ]
  },
  {
   "cell_type": "code",
   "execution_count": null,
   "id": "c74fb2ba",
   "metadata": {},
   "outputs": [],
   "source": [
    "y_hat=np.argmax(tmp_2,axis=1)"
   ]
  },
  {
   "cell_type": "code",
   "execution_count": null,
   "id": "7523bd4e",
   "metadata": {},
   "outputs": [],
   "source": [
    "print(y_test)"
   ]
  },
  {
   "cell_type": "code",
   "execution_count": null,
   "id": "e73b05ae",
   "metadata": {},
   "outputs": [],
   "source": [
    "accuracy=sum(y_hat==y_test)/len(y_test)"
   ]
  }
 ],
 "metadata": {
  "kernelspec": {
   "display_name": "Python 3",
   "language": "python",
   "name": "python3"
  },
  "language_info": {
   "codemirror_mode": {
    "name": "ipython",
    "version": 3
   },
   "file_extension": ".py",
   "mimetype": "text/x-python",
   "name": "python",
   "nbconvert_exporter": "python",
   "pygments_lexer": "ipython3",
   "version": "3.8.8"
  }
 },
 "nbformat": 4,
 "nbformat_minor": 5
}
